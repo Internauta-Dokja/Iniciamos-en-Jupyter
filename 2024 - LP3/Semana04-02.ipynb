{
 "cells": [
  {
   "cell_type": "markdown",
   "id": "8217afb9",
   "metadata": {},
   "source": [
    "# Semana 04\n",
    "Zuñiga Aucasi Yesenia"
   ]
  },
  {
   "cell_type": "markdown",
   "id": "a554a998",
   "metadata": {},
   "source": [
    "Agenda:\n",
    "1. Número\n",
    "2. Variables\n",
    "3. Manejo de cadenas\n",
    "4. INgreso por el teclado\n",
    "5. Operadores"
   ]
  },
  {
   "cell_type": "raw",
   "id": "f4e90188",
   "metadata": {},
   "source": [
    "2. Variables"
   ]
  },
  {
   "cell_type": "code",
   "execution_count": 1,
   "id": "e9b0abc5",
   "metadata": {},
   "outputs": [],
   "source": [
    "# Se deben iniciar siempre con una letra con un guion abajo. (Nunca con un numero o otro simbolo)"
   ]
  },
  {
   "cell_type": "code",
   "execution_count": 13,
   "id": "96816220",
   "metadata": {},
   "outputs": [],
   "source": [
    "edad = 20"
   ]
  },
  {
   "cell_type": "code",
   "execution_count": 14,
   "id": "602681e9",
   "metadata": {},
   "outputs": [
    {
     "data": {
      "text/plain": [
       "20"
      ]
     },
     "execution_count": 14,
     "metadata": {},
     "output_type": "execute_result"
    }
   ],
   "source": [
    "edad"
   ]
  },
  {
   "cell_type": "code",
   "execution_count": 15,
   "id": "f817d615",
   "metadata": {},
   "outputs": [],
   "source": [
    "nombre = \"Yesenia\""
   ]
  },
  {
   "cell_type": "code",
   "execution_count": 16,
   "id": "bb672aaf",
   "metadata": {},
   "outputs": [
    {
     "data": {
      "text/plain": [
       "'Yesenia'"
      ]
     },
     "execution_count": 16,
     "metadata": {},
     "output_type": "execute_result"
    }
   ],
   "source": [
    "nombre"
   ]
  },
  {
   "cell_type": "code",
   "execution_count": 17,
   "id": "2e954801",
   "metadata": {},
   "outputs": [],
   "source": [
    "apellido = \"Zuñiga Aucasi\""
   ]
  },
  {
   "cell_type": "code",
   "execution_count": 18,
   "id": "09fcc5c6",
   "metadata": {},
   "outputs": [
    {
     "data": {
      "text/plain": [
       "'Zuñiga Aucasi'"
      ]
     },
     "execution_count": 18,
     "metadata": {},
     "output_type": "execute_result"
    }
   ],
   "source": [
    "apellido"
   ]
  },
  {
   "cell_type": "code",
   "execution_count": 21,
   "id": "30699419",
   "metadata": {},
   "outputs": [],
   "source": [
    "nombre_completo = apellido + \" \" + nombre"
   ]
  },
  {
   "cell_type": "code",
   "execution_count": 22,
   "id": "831c078e",
   "metadata": {},
   "outputs": [
    {
     "data": {
      "text/plain": [
       "'Zuñiga Aucasi Yesenia'"
      ]
     },
     "execution_count": 22,
     "metadata": {},
     "output_type": "execute_result"
    }
   ],
   "source": [
    "nombre_completo"
   ]
  },
  {
   "cell_type": "code",
   "execution_count": 24,
   "id": "d3475f25",
   "metadata": {},
   "outputs": [
    {
     "data": {
      "text/plain": [
       "int"
      ]
     },
     "execution_count": 24,
     "metadata": {},
     "output_type": "execute_result"
    }
   ],
   "source": [
    "# Para saber el tipo de variable utilizamos la funcion type()\n",
    "# Por ejemplo:\n",
    "numero = 50\n",
    "type(numero)"
   ]
  },
  {
   "cell_type": "code",
   "execution_count": 25,
   "id": "ec2a972b",
   "metadata": {},
   "outputs": [],
   "source": [
    "talla = 1.63"
   ]
  },
  {
   "cell_type": "code",
   "execution_count": 26,
   "id": "7236ba9a",
   "metadata": {},
   "outputs": [
    {
     "data": {
      "text/plain": [
       "1.63"
      ]
     },
     "execution_count": 26,
     "metadata": {},
     "output_type": "execute_result"
    }
   ],
   "source": [
    "talla"
   ]
  },
  {
   "cell_type": "code",
   "execution_count": 27,
   "id": "c900c398",
   "metadata": {},
   "outputs": [
    {
     "data": {
      "text/plain": [
       "float"
      ]
     },
     "execution_count": 27,
     "metadata": {},
     "output_type": "execute_result"
    }
   ],
   "source": [
    "type(talla)"
   ]
  },
  {
   "cell_type": "code",
   "execution_count": 29,
   "id": "d49bc47e",
   "metadata": {},
   "outputs": [
    {
     "data": {
      "text/plain": [
       "'100'"
      ]
     },
     "execution_count": 29,
     "metadata": {},
     "output_type": "execute_result"
    }
   ],
   "source": [
    "# Para convertir un numero a cadena utlizamos str()\n",
    "numero = 100\n",
    "cadena = str (numero)\n",
    "cadena"
   ]
  },
  {
   "cell_type": "code",
   "execution_count": 30,
   "id": "f0e3193f",
   "metadata": {},
   "outputs": [
    {
     "data": {
      "text/plain": [
       "str"
      ]
     },
     "execution_count": 30,
     "metadata": {},
     "output_type": "execute_result"
    }
   ],
   "source": [
    "type(cadena)"
   ]
  },
  {
   "cell_type": "code",
   "execution_count": 31,
   "id": "db172ded",
   "metadata": {},
   "outputs": [
    {
     "data": {
      "text/plain": [
       "50"
      ]
     },
     "execution_count": 31,
     "metadata": {},
     "output_type": "execute_result"
    }
   ],
   "source": [
    "# Para convertir una cadena a numero utilizamos int()\n",
    "cadena2 = \"50\"\n",
    "numero2 = int(cadena2)\n",
    "numero2"
   ]
  },
  {
   "cell_type": "code",
   "execution_count": 32,
   "id": "898bca9a",
   "metadata": {},
   "outputs": [
    {
     "data": {
      "text/plain": [
       "50.0"
      ]
     },
     "execution_count": 32,
     "metadata": {},
     "output_type": "execute_result"
    }
   ],
   "source": [
    "# Para convertir una cadena a decimal utilizamos float()\n",
    "cadena2 = \"50\"\n",
    "numero2 = float(cadena2)\n",
    "numero2"
   ]
  },
  {
   "cell_type": "code",
   "execution_count": 33,
   "id": "68583573",
   "metadata": {},
   "outputs": [
    {
     "data": {
      "text/plain": [
       "float"
      ]
     },
     "execution_count": 33,
     "metadata": {},
     "output_type": "execute_result"
    }
   ],
   "source": [
    "type(numero2)"
   ]
  },
  {
   "cell_type": "code",
   "execution_count": null,
   "id": "16c7e6d5",
   "metadata": {},
   "outputs": [],
   "source": []
  }
 ],
 "metadata": {
  "kernelspec": {
   "display_name": "Python 3 (ipykernel)",
   "language": "python",
   "name": "python3"
  },
  "language_info": {
   "codemirror_mode": {
    "name": "ipython",
    "version": 3
   },
   "file_extension": ".py",
   "mimetype": "text/x-python",
   "name": "python",
   "nbconvert_exporter": "python",
   "pygments_lexer": "ipython3",
   "version": "3.9.12"
  }
 },
 "nbformat": 4,
 "nbformat_minor": 5
}
