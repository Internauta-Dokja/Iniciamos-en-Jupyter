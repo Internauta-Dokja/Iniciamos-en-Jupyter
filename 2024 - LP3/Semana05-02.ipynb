{
 "cells": [
  {
   "cell_type": "markdown",
   "metadata": {
    "id": "9cS1r3WnTJ0L"
   },
   "source": [
    "# SEMANA 05\n",
    "\n",
    "Zuñiga Aucasi Yesenia Stefany"
   ]
  },
  {
   "cell_type": "markdown",
   "metadata": {
    "id": "jKL9R9wyTJ0O"
   },
   "source": [
    "Temas\n",
    "1. Colecciones de datos\n",
    "2. Estructuras Decisivas y Estructuras Repetitivas\n",
    "3. Funciones\n",
    "4. Clases y objetos"
   ]
  },
  {
   "cell_type": "markdown",
   "metadata": {
    "id": "U0N4triLTJ0P"
   },
   "source": [
    "2. Bucles y condiciones"
   ]
  },
  {
   "cell_type": "code",
   "execution_count": null,
   "metadata": {
    "id": "GdqWU1DqTJ0P"
   },
   "outputs": [],
   "source": [
    "# 2.1 Estructuras Decisivas (if, elif, else)"
   ]
  },
  {
   "cell_type": "code",
   "execution_count": null,
   "metadata": {
    "id": "HFutm-2nTJ0Q"
   },
   "outputs": [],
   "source": [
    "# if\n",
    "# Problema: Dado el precio de 3 productos ingresados por el teclado, aplicar un descuento del 10% si la\n",
    "# venta es mayor o igual a 1000."
   ]
  },
  {
   "cell_type": "code",
   "execution_count": 1,
   "metadata": {
    "id": "1-8b6zUDTJ0R",
    "outputId": "3f5f2cb7-7ce9-4c3f-d93d-910d55172ac3",
    "scrolled": false
   },
   "outputs": [
    {
     "name": "stdout",
     "output_type": "stream",
     "text": [
      "Producto 1: 78\n",
      "Producto 2: 964\n",
      "Producto 3: 241\n",
      "El total a pagar es: 1154.7\n"
     ]
    }
   ],
   "source": [
    "# Solución\n",
    "P1 = float(input(\"Producto 1: \"))\n",
    "P2 = float(input(\"Producto 2: \"))\n",
    "P3 = float(input(\"Producto 3: \"))\n",
    "total = P1 + P2 + P3\n",
    "if total>=1000:\n",
    "    total *= 0.9\n",
    "print(f\"El total a pagar es: {total}\")"
   ]
  },
  {
   "cell_type": "code",
   "execution_count": null,
   "metadata": {
    "id": "Fj8HnO7ZTJ0S"
   },
   "outputs": [],
   "source": [
    "# if-else"
   ]
  },
  {
   "cell_type": "code",
   "execution_count": null,
   "metadata": {
    "id": "SIf1iCpYTJ0S"
   },
   "outputs": [],
   "source": [
    "# Problema 01 (Recordando)\n",
    "# Dado una lista de  ['AMES', 'ARTEAGA' , 'BARRIOS' , 'BONIFACIO', 'BRAVO', 'CABALLERO' , 'CAÑAZACA', 'FERNANDEZ' , 'FLORES' , 'GARCIA' , 'HERRERA' , 'HUERTA' , 'HUERTAS', 'JIMENEZ' , 'MAMANI' , 'MANCILLA', 'PABLO' , 'PAYE' , 'PEÑA' , 'PIZANGO', 'RAMOS', 'SANCHEZ','SEVILLANO', 'TINOCO', 'TORRES' , 'VALDIVIESO', 'VELEZ' , 'VILLANUEVA' , 'ZUÑIGA']\n",
    "# Diseñar un código que muestre si el apellido de un estudiante (Ingresado por teclado) forma parte de la lista"
   ]
  },
  {
   "cell_type": "code",
   "execution_count": 6,
   "metadata": {
    "id": "qpj39Xs0TJ0T",
    "outputId": "70d5f2fa-a022-4888-92b5-ad30262bc213"
   },
   "outputs": [
    {
     "name": "stdout",
     "output_type": "stream",
     "text": [
      "Ingresa nombre a buscar: BARRIOS\n",
      "Si está en la lista de LP3\n"
     ]
    }
   ],
   "source": [
    "LP3 = ['AMES', 'ARTEAGA' , 'BARRIOS' , 'BONIFACIO', 'BRAVO', 'CABALLERO' , 'CAÑAZACA', 'FERNANDEZ' , 'FLORES' , 'GARCIA' , 'HERRERA' , 'HUERTA' , 'HUERTAS', 'JIMENEZ' , 'MAMANI' , 'MANCILLA', 'PABLO' , 'PAYE' , 'PEÑA' , 'PIZANGO', 'RAMOS', 'SANCHEZ','SEVILLANO', 'TINOCO', 'TORRES' , 'VALDIVIESO', 'VELEZ' , 'VILLANUEVA' , 'ZUÑIGA']\n",
    "\n",
    "apellido = input(\"Ingresa nombre a buscar: \")\n",
    "\n",
    "# Como los datos de la lista están en mayúscula, utilizo upper()\n",
    "if apellido.upper() in LP3:\n",
    "    print(\"Si está en la lista de LP3\")\n",
    "else:\n",
    "    print(\"No está en la lista de LP3\")"
   ]
  },
  {
   "cell_type": "code",
   "execution_count": null,
   "metadata": {
    "id": "P3hoLLBhTJ0U"
   },
   "outputs": [],
   "source": [
    "# Problema 02\n",
    "# Dado el importe total de ventas realizadas por un trabajador (ingresado por teclado,\n",
    "# categorizar que tipo de empleado es, considerando la siguiente tabla:\n",
    "\n",
    "# Categoria: A -> [0, 1000]\n",
    "# Categoria: B -> <1000, 2000]\n",
    "# Categoria: C -> <2000, 5000]\n",
    "# Categoría: D -> <5000, Mas]\n",
    "\n",
    "# Tiempo asignado: 12 minutos"
   ]
  },
  {
   "cell_type": "code",
   "execution_count": 2,
   "metadata": {
    "id": "xc0yJVWYTJ0U",
    "outputId": "2dc65080-58e9-4519-ee76-670875f91947"
   },
   "outputs": [
    {
     "name": "stdout",
     "output_type": "stream",
     "text": [
      "Importe de ventas realizadas: 1500\n",
      "Categoria B\n"
     ]
    }
   ],
   "source": [
    "# Solución\n",
    "ventas = float(input(\"Importe de ventas realizadas: \"))\n",
    "if ventas < 0:\n",
    "    print(\"Datos erroneos\")\n",
    "else:\n",
    "    if ventas<=1000:\n",
    "        print(\"Categoria A\")\n",
    "    else:\n",
    "        if ventas <=2000:\n",
    "            print(\"Categoria B\")\n",
    "        else:\n",
    "            if ventas <= 5000:\n",
    "                print(\"Categoria C\")\n",
    "            else:\n",
    "                print(\"Categoria D\")\n"
   ]
  },
  {
   "cell_type": "code",
   "execution_count": null,
   "metadata": {
    "id": "fGJ1GhPBTJ0V"
   },
   "outputs": [],
   "source": [
    "# elif\n",
    "# Problema 03, Solucionar el problema anterior utilizando elif\n",
    "\n",
    "# Dado el importe total de ventas realizadas por un trabajador (ingresado por teclado,\n",
    "# categorizar que tipo de empleado es, considerando la siguiente tabla:\n",
    "\n",
    "# Categoria: A -> [0, 1000]\n",
    "# Categoria: B -> <1000, 2000]\n",
    "# Categoria: C -> <2000, 5000]\n",
    "# Categoría: D -> <5000, Mas]\n",
    "\n",
    "# Tiempo asignado: 12 minutos"
   ]
  },
  {
   "cell_type": "code",
   "execution_count": 4,
   "metadata": {
    "id": "z_HPUYoSTJ0V",
    "outputId": "03e55cdd-22ae-4c20-cf82-ff42f47a6ac8"
   },
   "outputs": [
    {
     "name": "stdout",
     "output_type": "stream",
     "text": [
      "Importe de ventas realizadas: 3200\n",
      "Categoria C\n"
     ]
    }
   ],
   "source": [
    "# Solución\n",
    "\n",
    "ventas = float(input(\"Importe de ventas realizadas: \"))\n",
    "if ventas < 0:\n",
    "    print(\"Datos erroneos\")\n",
    "elif ventas<=1000:\n",
    "    print(\"Categoria A\")\n",
    "elif ventas <=2000:\n",
    "    print(\"Categoria B\")\n",
    "elif ventas <= 5000:\n",
    "    print(\"Categoria C\")\n",
    "else:\n",
    "    print(\"Categoria D\")"
   ]
  },
  {
   "cell_type": "code",
   "execution_count": null,
   "metadata": {
    "id": "lyDB5IP3TJ0W"
   },
   "outputs": [],
   "source": [
    "# 2.2 Estructuras repetitivas"
   ]
  },
  {
   "cell_type": "code",
   "execution_count": null,
   "metadata": {
    "id": "UqZwsCUuTJ0W"
   },
   "outputs": [],
   "source": [
    "# for"
   ]
  },
  {
   "cell_type": "code",
   "execution_count": null,
   "metadata": {
    "id": "s7AvG7QXTJ0W"
   },
   "outputs": [],
   "source": [
    "# Problema 01:\n",
    "# Mostrar los elementos de una lista utilizando for"
   ]
  },
  {
   "cell_type": "code",
   "execution_count": 7,
   "metadata": {
    "id": "2YZD32euTJ0W",
    "outputId": "a7874b36-13ab-470c-da34-89f2e903d4af"
   },
   "outputs": [
    {
     "name": "stdout",
     "output_type": "stream",
     "text": [
      "Barrios\n",
      "Sevillano\n",
      "Zuñiga\n",
      "Paye\n"
     ]
    }
   ],
   "source": [
    "# Solución\n",
    "aula = ['Barrios','Sevillano','Zuñiga','Paye']\n",
    "\n",
    "# Por cada alumno que está en la lista, imprimir alumno\n",
    "for alumno in aula:\n",
    "    print(alumno)"
   ]
  },
  {
   "cell_type": "code",
   "execution_count": null,
   "metadata": {
    "id": "SsQpvAEyTJ0X"
   },
   "outputs": [],
   "source": [
    "# Problema 02:\n",
    "# Dado una cadena ingresado por teclado, mostrar cada caracter de la cadena, utilizando la estructura for"
   ]
  },
  {
   "cell_type": "code",
   "execution_count": 8,
   "metadata": {
    "id": "vWgtKtEdTJ0X",
    "outputId": "ac85cca5-d5d4-4f77-99e3-17a4c2cd2574",
    "scrolled": true
   },
   "outputs": [
    {
     "name": "stdout",
     "output_type": "stream",
     "text": [
      "Ingrese Cadena:Universidad Nacional Tecnologica de Lima Sur\n",
      "U\n",
      "n\n",
      "i\n",
      "v\n",
      "e\n",
      "r\n",
      "s\n",
      "i\n",
      "d\n",
      "a\n",
      "d\n",
      " \n",
      "N\n",
      "a\n",
      "c\n",
      "i\n",
      "o\n",
      "n\n",
      "a\n",
      "l\n",
      " \n",
      "T\n",
      "e\n",
      "c\n",
      "n\n",
      "o\n",
      "l\n",
      "o\n",
      "g\n",
      "i\n",
      "c\n",
      "a\n",
      " \n",
      "d\n",
      "e\n",
      " \n",
      "L\n",
      "i\n",
      "m\n",
      "a\n",
      " \n",
      "S\n",
      "u\n",
      "r\n"
     ]
    }
   ],
   "source": [
    "# Solución\n",
    "cadena = input(\"Ingrese Cadena:\")\n",
    "for caracter in cadena:\n",
    "    print(caracter)"
   ]
  },
  {
   "cell_type": "code",
   "execution_count": 9,
   "metadata": {
    "id": "e8oMv_8PTJ0X",
    "outputId": "10eff42d-4fef-4dc0-9eb6-5b34496ee467"
   },
   "outputs": [
    {
     "data": {
      "text/plain": [
       "range(0, 5)"
      ]
     },
     "execution_count": 9,
     "metadata": {},
     "output_type": "execute_result"
    }
   ],
   "source": [
    "# Para generar rangos de números utilizamos range()\n",
    "range(5)\n",
    "# [0, 5>"
   ]
  },
  {
   "cell_type": "code",
   "execution_count": 10,
   "metadata": {
    "id": "2bwWvxYHTJ0X",
    "outputId": "00a32adb-6aea-45e2-d4cf-cade493fdba7"
   },
   "outputs": [
    {
     "name": "stdout",
     "output_type": "stream",
     "text": [
      "0\n",
      "1\n",
      "2\n",
      "3\n",
      "4\n",
      "5\n",
      "6\n",
      "7\n",
      "8\n",
      "9\n",
      "10\n"
     ]
    }
   ],
   "source": [
    "# Problema 02\n",
    "# Imprimir los números de 0 a 10, utilizando for\n",
    "for numero in range(11):\n",
    "    print (numero)"
   ]
  },
  {
   "cell_type": "code",
   "execution_count": 11,
   "metadata": {
    "id": "IW325KSaTJ0Y",
    "outputId": "9fa42c52-93bf-447e-c894-8ea7b8feb346"
   },
   "outputs": [
    {
     "name": "stdout",
     "output_type": "stream",
     "text": [
      "5\n",
      "6\n",
      "7\n",
      "8\n",
      "9\n",
      "10\n"
     ]
    }
   ],
   "source": [
    "# Problema 03\n",
    "# Imprimir los números de 5 a 10, utilizando for\n",
    "for numero in range(5,11):\n",
    "    print (numero)"
   ]
  },
  {
   "cell_type": "code",
   "execution_count": 12,
   "metadata": {
    "id": "NOOhPpCrTJ0Y",
    "outputId": "2d00f0a7-9c40-491d-92ed-26e6d1f12b78"
   },
   "outputs": [
    {
     "name": "stdout",
     "output_type": "stream",
     "text": [
      "10\n",
      "12\n",
      "14\n",
      "16\n",
      "18\n",
      "20\n"
     ]
    }
   ],
   "source": [
    "# Problema 02\n",
    "# Imprimir los números de 10 a 20, utilizando for\n",
    "for numero in range(10, 22, 2):\n",
    "    print (numero)"
   ]
  },
  {
   "cell_type": "code",
   "execution_count": 13,
   "metadata": {
    "id": "X8KMK47oTJ0Z"
   },
   "outputs": [],
   "source": [
    "# Tambien funcionan los bucles anidados:"
   ]
  },
  {
   "cell_type": "code",
   "execution_count": 14,
   "metadata": {
    "id": "lngU9snmTJ0Z"
   },
   "outputs": [],
   "source": [
    "# Problema 03\n",
    "# Dado una lista de números, utilizando el algoritmo de burbuja ordenarlos de menor a mayor\n",
    "# Tiempo asignado: 12 minutos\n",
    "\n",
    "# Codigo en java\n",
    "# package ordenamiento;\n",
    "# public class burbuja {\n",
    "#    public static void main(String[] args) {\n",
    "#        int temp;\n",
    "#        int lista[]={12,5,1,4,10,0};\n",
    "#        for(int i=0;i<lista.length-1;i++){\n",
    "#            for(int j=i+1; j<lista.length; j++){\n",
    "#                if(lista[i]>lista[j]){\n",
    "#                    temp = lista[i];\n",
    "#                    lista[i] = lista[j];\n",
    "#                    lista[j] = temp;\n",
    "#                }\n",
    "#            }\n",
    "#        }\n",
    "#        System.out.println(\"Lista ordenada\");\n",
    "#        for(int a=0; a<lista.length; a++){\n",
    "#                    System.out.print(lista[a] + \" \");\n",
    "#        }\n",
    "#    }\n",
    "# }"
   ]
  },
  {
   "cell_type": "code",
   "execution_count": 15,
   "metadata": {
    "id": "KlSaNBJTTJ0Z",
    "outputId": "0c8c004e-5a91-4796-a3bc-1e44deef562a",
    "scrolled": true
   },
   "outputs": [
    {
     "name": "stdout",
     "output_type": "stream",
     "text": [
      "Lista inicial: \n",
      "[10, 20, 5, -10, 100, 0, 50, 17, 2000, -1000, 0]\n",
      "Lista ordena:\n",
      "[-1000, -10, 0, 0, 5, 10, 17, 20, 50, 100, 2000]\n"
     ]
    }
   ],
   "source": [
    "# Solución\n",
    "print(\"Lista inicial: \")\n",
    "lista = [10, 20, 5, -10, 100, 0 , 50, 17, 2000,-1000,0]\n",
    "print(lista)\n",
    "i=0\n",
    "for i in range(0,len(lista)-1):\n",
    "    for j in range(i+1,len(lista)):\n",
    "        if lista[i]>lista[j]:\n",
    "            temp = lista[i]\n",
    "            lista[i] = lista[j]\n",
    "            lista[j] = temp\n",
    "print(\"Lista ordena:\")\n",
    "print(lista)"
   ]
  },
  {
   "cell_type": "code",
   "execution_count": 16,
   "metadata": {
    "id": "-b8M5t7-TJ0Z"
   },
   "outputs": [],
   "source": [
    "# while\n",
    "# Permite ejecutar un conjunto de acciones mientras se cumpla una condición"
   ]
  },
  {
   "cell_type": "code",
   "execution_count": 17,
   "metadata": {
    "id": "KZk7HP3UTJ0a",
    "outputId": "bf28c2e3-af3b-430d-d530-647304a08a55",
    "scrolled": true
   },
   "outputs": [
    {
     "name": "stdout",
     "output_type": "stream",
     "text": [
      "1\n",
      "2\n",
      "3\n",
      "4\n",
      "5\n",
      "6\n",
      "7\n",
      "8\n",
      "9\n",
      "10\n"
     ]
    }
   ],
   "source": [
    "# Ejemplo:\n",
    "numero = 1\n",
    "fin = 10\n",
    "while numero <= fin:\n",
    "    print(numero)\n",
    "    numero+=1\n"
   ]
  },
  {
   "cell_type": "code",
   "execution_count": null,
   "metadata": {
    "id": "5sANqx-5TJ0a"
   },
   "outputs": [],
   "source": []
  },
  {
   "cell_type": "code",
   "execution_count": null,
   "metadata": {
    "id": "yqvwWclXTJ0a"
   },
   "outputs": [],
   "source": []
  }
 ],
 "metadata": {
  "colab": {
   "provenance": []
  },
  "kernelspec": {
   "display_name": "Python 3 (ipykernel)",
   "language": "python",
   "name": "python3"
  },
  "language_info": {
   "codemirror_mode": {
    "name": "ipython",
    "version": 3
   },
   "file_extension": ".py",
   "mimetype": "text/x-python",
   "name": "python",
   "nbconvert_exporter": "python",
   "pygments_lexer": "ipython3",
   "version": "3.9.12"
  }
 },
 "nbformat": 4,
 "nbformat_minor": 1
}
