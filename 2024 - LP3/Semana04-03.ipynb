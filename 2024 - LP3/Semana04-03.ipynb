{
 "cells": [
  {
   "cell_type": "markdown",
   "id": "7b011064",
   "metadata": {},
   "source": [
    "# Semana 04\n",
    "Zuñiga Aucasi Yesenia"
   ]
  },
  {
   "cell_type": "markdown",
   "id": "5a0a5346",
   "metadata": {},
   "source": [
    "Agenda:\n",
    "1. Número\n",
    "2. Variables\n",
    "3. Manejo de cadenas\n",
    "4. INgreso por el teclado\n",
    "5. Operadores"
   ]
  },
  {
   "cell_type": "markdown",
   "id": "3d937a6f",
   "metadata": {},
   "source": [
    "3. Manejo de tarea"
   ]
  },
  {
   "cell_type": "code",
   "execution_count": 2,
   "id": "66a429d1",
   "metadata": {},
   "outputs": [],
   "source": [
    "cadena = \"Universidad Nacional Tecnologica de Lima Sur\""
   ]
  },
  {
   "cell_type": "code",
   "execution_count": 3,
   "id": "3be007a6",
   "metadata": {},
   "outputs": [
    {
     "data": {
      "text/plain": [
       "'Universidad Nacional Tecnologica de Lima Sur'"
      ]
     },
     "execution_count": 3,
     "metadata": {},
     "output_type": "execute_result"
    }
   ],
   "source": [
    "cadena"
   ]
  },
  {
   "cell_type": "code",
   "execution_count": 4,
   "id": "75ac6bc1",
   "metadata": {},
   "outputs": [],
   "source": [
    "# Universidad Nacional Tecnologica de Lima Sur\n",
    "#01234...\n",
    "#                                         -2-1"
   ]
  },
  {
   "cell_type": "code",
   "execution_count": 5,
   "id": "0a47778c",
   "metadata": {},
   "outputs": [
    {
     "data": {
      "text/plain": [
       "'r'"
      ]
     },
     "execution_count": 5,
     "metadata": {},
     "output_type": "execute_result"
    }
   ],
   "source": [
    "cadena[5]"
   ]
  },
  {
   "cell_type": "code",
   "execution_count": 6,
   "id": "cfb1e638",
   "metadata": {},
   "outputs": [
    {
     "data": {
      "text/plain": [
       "'d'"
      ]
     },
     "execution_count": 6,
     "metadata": {},
     "output_type": "execute_result"
    }
   ],
   "source": [
    "cadena[10]"
   ]
  },
  {
   "cell_type": "code",
   "execution_count": 7,
   "id": "3a3f4f93",
   "metadata": {},
   "outputs": [
    {
     "data": {
      "text/plain": [
       "' '"
      ]
     },
     "execution_count": 7,
     "metadata": {},
     "output_type": "execute_result"
    }
   ],
   "source": [
    "# Tambien considera los espacios en blanco\n",
    "cadena[11]"
   ]
  },
  {
   "cell_type": "code",
   "execution_count": 8,
   "id": "060354d5",
   "metadata": {},
   "outputs": [
    {
     "data": {
      "text/plain": [
       "'a'"
      ]
     },
     "execution_count": 8,
     "metadata": {},
     "output_type": "execute_result"
    }
   ],
   "source": [
    "cadena[-5]"
   ]
  },
  {
   "cell_type": "code",
   "execution_count": 11,
   "id": "09db54a8",
   "metadata": {},
   "outputs": [
    {
     "data": {
      "text/plain": [
       "'versi'"
      ]
     },
     "execution_count": 11,
     "metadata": {},
     "output_type": "execute_result"
    }
   ],
   "source": [
    "# Para mostrar una subcadena [desde, hasta una antes]\n",
    "# En Java era substring()\n",
    "cadena[3:8]"
   ]
  },
  {
   "cell_type": "code",
   "execution_count": 13,
   "id": "9c04a1f5",
   "metadata": {},
   "outputs": [
    {
     "data": {
      "text/plain": [
       "44"
      ]
     },
     "execution_count": 13,
     "metadata": {},
     "output_type": "execute_result"
    }
   ],
   "source": [
    "## Pregunta de examen\n",
    "# Saber el tamaño de mi cadena len()\n",
    "# Incluye espacios en blanco\n",
    "len(cadena)"
   ]
  },
  {
   "cell_type": "code",
   "execution_count": 14,
   "id": "fad72511",
   "metadata": {},
   "outputs": [
    {
     "data": {
      "text/plain": [
       "'UNIVERSIDAD NACIONAL TECNOLOGICA DE LIMA SUR'"
      ]
     },
     "execution_count": 14,
     "metadata": {},
     "output_type": "execute_result"
    }
   ],
   "source": [
    "#Para mayuscula upper()\n",
    "cadena.upper()"
   ]
  },
  {
   "cell_type": "code",
   "execution_count": 15,
   "id": "2c57cbd7",
   "metadata": {},
   "outputs": [
    {
     "data": {
      "text/plain": [
       "'universidad nacional tecnologica de lima sur'"
      ]
     },
     "execution_count": 15,
     "metadata": {},
     "output_type": "execute_result"
    }
   ],
   "source": [
    "# Para minusculas\n",
    "cadena.lower()"
   ]
  },
  {
   "cell_type": "code",
   "execution_count": 16,
   "id": "40b6b01a",
   "metadata": {},
   "outputs": [
    {
     "data": {
      "text/plain": [
       "'Universidad Nacional Tecnologica de Lima Sur'"
      ]
     },
     "execution_count": 16,
     "metadata": {},
     "output_type": "execute_result"
    }
   ],
   "source": [
    "cadena"
   ]
  },
  {
   "cell_type": "code",
   "execution_count": 22,
   "id": "64ffcefb",
   "metadata": {},
   "outputs": [
    {
     "data": {
      "text/plain": [
       "['Universidad', 'Nacional', 'Tecnologica', 'de', 'Lima', 'Sur']"
      ]
     },
     "execution_count": 22,
     "metadata": {},
     "output_type": "execute_result"
    }
   ],
   "source": [
    "# Generar una lista a apartir de una cadena. split()\n",
    "cadena.split()"
   ]
  },
  {
   "cell_type": "code",
   "execution_count": 23,
   "id": "bedb1541",
   "metadata": {},
   "outputs": [
    {
     "data": {
      "text/plain": [
       "['Universid', 'd N', 'cion', 'l Tecnologic', ' de Lim', ' Sur']"
      ]
     },
     "execution_count": 23,
     "metadata": {},
     "output_type": "execute_result"
    }
   ],
   "source": [
    "# Generara una lista utilizando un criterio de separacion a partir de una cadena.\n",
    "# En este caso vamos a agenerar una lista de toda la cadena\n",
    "# Utilizando como criterio de separacion \n",
    "cadena.split(\"a\")"
   ]
  },
  {
   "cell_type": "markdown",
   "id": "468fb95e",
   "metadata": {},
   "source": [
    "3 formas de concatenar"
   ]
  },
  {
   "cell_type": "code",
   "execution_count": 24,
   "id": "5ef468fa",
   "metadata": {},
   "outputs": [
    {
     "name": "stdout",
     "output_type": "stream",
     "text": [
      "Buenas tardes Yesenia Zuñiga\n"
     ]
    }
   ],
   "source": [
    "# Forma clasica, concatenar  con +\n",
    "nombre = \"Yesenia Zuñiga\"\n",
    "print(\"Buenas tardes \"+ nombre)"
   ]
  },
  {
   "cell_type": "code",
   "execution_count": 25,
   "id": "24e491fc",
   "metadata": {},
   "outputs": [
    {
     "name": "stdout",
     "output_type": "stream",
     "text": [
      "Hola Yesenia Zuñiga ya sé que tienes 21 años\n"
     ]
    }
   ],
   "source": [
    "# Utilizando el .format()\n",
    "nombre = \"Yesenia Zuñiga\"\n",
    "edad = 21\n",
    "print(\"Hola {} ya sé que tienes {} años\".format(nombre,edad))"
   ]
  },
  {
   "cell_type": "code",
   "execution_count": 29,
   "id": "c47fb323",
   "metadata": {},
   "outputs": [
    {
     "name": "stdout",
     "output_type": "stream",
     "text": [
      "10/3 es = 3.3333333333333335\n",
      "10/3 es = 3.33\n"
     ]
    }
   ],
   "source": [
    "# Dar formato a numeros con muchos decimales\n",
    "resultado = 10/3\n",
    "print(\"10/3 es = {}\".format(resultado))\n",
    "print(\"10/3 es = {r:1.2f}\".format(r=resultado))"
   ]
  },
  {
   "cell_type": "code",
   "execution_count": 30,
   "id": "2aafeda7",
   "metadata": {},
   "outputs": [
    {
     "name": "stdout",
     "output_type": "stream",
     "text": [
      "Buenos dias Yesenia Zuñiga, ya sé que tienes 21 años\n"
     ]
    }
   ],
   "source": [
    "# Dar formato con f\n",
    "# La funcion f, esta disponible desde la version 3.6\n",
    "nombre = \"Yesenia Zuñiga\"\n",
    "edad = 21\n",
    "print(f\"Buenos dias {nombre}, ya sé que tienes {edad} años\")"
   ]
  },
  {
   "cell_type": "code",
   "execution_count": 31,
   "id": "d45062ba",
   "metadata": {},
   "outputs": [
    {
     "name": "stdout",
     "output_type": "stream",
     "text": [
      "10/3 es = 3.3333333333333335\n",
      "10/3 es = 3.33\n"
     ]
    }
   ],
   "source": [
    "# Dar formato a numeros con muchos decimales con f\n",
    "resultado = 10/3\n",
    "print(f\"10/3 es = {resultado}\")\n",
    "print(f\"10/3 es = {resultado:1.2f}\")"
   ]
  },
  {
   "cell_type": "code",
   "execution_count": null,
   "id": "59c60cc1",
   "metadata": {},
   "outputs": [],
   "source": []
  }
 ],
 "metadata": {
  "kernelspec": {
   "display_name": "Python 3 (ipykernel)",
   "language": "python",
   "name": "python3"
  },
  "language_info": {
   "codemirror_mode": {
    "name": "ipython",
    "version": 3
   },
   "file_extension": ".py",
   "mimetype": "text/x-python",
   "name": "python",
   "nbconvert_exporter": "python",
   "pygments_lexer": "ipython3",
   "version": "3.9.12"
  }
 },
 "nbformat": 4,
 "nbformat_minor": 5
}
