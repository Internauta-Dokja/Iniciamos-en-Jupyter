{
 "cells": [
  {
   "cell_type": "markdown",
   "id": "601fe438",
   "metadata": {},
   "source": [
    "# Semana 04\n",
    "Zuñiga Aucasi Yesenia"
   ]
  },
  {
   "cell_type": "markdown",
   "id": "e35b8fff",
   "metadata": {},
   "source": [
    "Agenda:\n",
    "\n",
    "1. Número\n",
    "2. Variables\n",
    "3. Manejo de cadenas\n",
    "4. Ingreso por el teclado\n",
    "5. Operadores"
   ]
  },
  {
   "cell_type": "markdown",
   "id": "e1a481a7",
   "metadata": {},
   "source": [
    "4. Ingreso por el teclado"
   ]
  },
  {
   "cell_type": "code",
   "execution_count": 2,
   "id": "5eb25fc0",
   "metadata": {},
   "outputs": [
    {
     "name": "stdout",
     "output_type": "stream",
     "text": [
      "¿Cual es tu nombre?\n",
      "Yesenia\n",
      "Hola Yesenia\n"
     ]
    }
   ],
   "source": [
    "# Funcion input(), para imprimir, pide tu nombre\n",
    "print(\"¿Cual es tu nombre?\")\n",
    "nombre = input()\n",
    "print (\"Hola \"+ nombre)"
   ]
  },
  {
   "cell_type": "code",
   "execution_count": 3,
   "id": "77e03b3d",
   "metadata": {},
   "outputs": [
    {
     "name": "stdout",
     "output_type": "stream",
     "text": [
      "numero 1: \n",
      "45\n",
      "numero 2: \n",
      "88\n",
      "El resultado es 133\n"
     ]
    }
   ],
   "source": [
    "#Cuando ingresa un valor por teclado lo hace como cadena\n",
    "print(\"numero 1: \")\n",
    "numero1 = input()\n",
    "print(\"numero 2: \")\n",
    "numero2 = input()\n",
    "numero3 = int(numero1) + int(numero2)\n",
    "print(f\"El resultado es {numero3}\")"
   ]
  },
  {
   "cell_type": "code",
   "execution_count": null,
   "id": "17eda9a5",
   "metadata": {},
   "outputs": [],
   "source": []
  }
 ],
 "metadata": {
  "kernelspec": {
   "display_name": "Python 3 (ipykernel)",
   "language": "python",
   "name": "python3"
  },
  "language_info": {
   "codemirror_mode": {
    "name": "ipython",
    "version": 3
   },
   "file_extension": ".py",
   "mimetype": "text/x-python",
   "name": "python",
   "nbconvert_exporter": "python",
   "pygments_lexer": "ipython3",
   "version": "3.9.12"
  }
 },
 "nbformat": 4,
 "nbformat_minor": 5
}
